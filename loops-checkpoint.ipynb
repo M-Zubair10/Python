{
 "cells": [
  {
   "cell_type": "markdown",
   "metadata": {},
   "source": [
    "<b><u>Loops:</b></u><br>"
   ]
  },
  {
   "cell_type": "markdown",
   "metadata": {},
   "source": [
    "<b><u>2. Calories Burned</b></u><br>\n",
    "Running on a particular treadmill you burn 4.2 calories per minute. Write a program that\n",
    "uses a loop to display the number of calories burned after 10, 15, 20, 25, and 30 minutes."
   ]
  },
  {
   "cell_type": "code",
   "execution_count": null,
   "metadata": {
    "collapsed": true
   },
   "outputs": [],
   "source": [
    "calories=float(input(\"Enter calories you burn in 1minute\"))\n",
    "print(calories*10,calories*15,calories*20,calories*25,calories*30)"
   ]
  },
  {
   "cell_type": "markdown",
   "metadata": {},
   "source": [
    "<b><u>4. Distance traveled</b></u><br>\n",
    "The distance a vehicle travels can be calculated as follows:\n",
    "distance 5 speed 3 time\n",
    "For example, if a train travels 40 miles per hour for three hours, the distance traveled is\n",
    "120 miles. Write a program that asks the user for the speed of a vehicle (in miles per hour)\n",
    "and the number of hours it has traveled. It should then use a loop to display the distance\n",
    "the vehicle has traveled for each hour of that time period."
   ]
  },
  {
   "cell_type": "code",
   "execution_count": null,
   "metadata": {
    "collapsed": true
   },
   "outputs": [],
   "source": [
    "speed=int(input('how many speed of vehicle in mph'))\n",
    "time=int(input('how many hour has it traveled'))\n",
    "distance=speed*time\n",
    "print(distance)"
   ]
  },
  {
   "cell_type": "markdown",
   "metadata": {},
   "source": [
    "<b><u>Write a program that uses nested loops to draw this pattern:</b></u><br>"
   ]
  },
  {
   "cell_type": "code",
   "execution_count": 1,
   "metadata": {},
   "outputs": [
    {
     "name": "stdout",
     "output_type": "stream",
     "text": [
      "*******\n",
      "******\n",
      "*****\n",
      "****\n",
      "***\n",
      "**\n",
      "*\n"
     ]
    }
   ],
   "source": [
    "ast=['*******','******','*****','****','***','**','*']\n",
    "for i in ast:\n",
    "    print(i)"
   ]
  },
  {
   "cell_type": "markdown",
   "metadata": {},
   "source": [
    "<b><u>9. ocean Levels</b></u><br>\n",
    "Assuming the ocean’s level is currently rising at about 1.6 millimeters per year, create an\n",
    "application that displays the number of millimeters that the ocean will have risen each year\n",
    "for the next 25 years."
   ]
  },
  {
   "cell_type": "code",
   "execution_count": 22,
   "metadata": {
    "scrolled": true
   },
   "outputs": [
    {
     "name": "stdout",
     "output_type": "stream",
     "text": [
      "3.2 millimeter\n",
      "4.800000000000001 millimeter\n",
      "6.4 millimeter\n",
      "8.0 millimeter\n",
      "9.6 millimeter\n",
      "11.2 millimeter\n",
      "12.799999999999999 millimeter\n",
      "14.399999999999999 millimeter\n",
      "15.999999999999998 millimeter\n",
      "17.599999999999998 millimeter\n",
      "19.2 millimeter\n",
      "20.8 millimeter\n",
      "22.400000000000002 millimeter\n",
      "24.000000000000004 millimeter\n",
      "25.600000000000005 millimeter\n",
      "27.200000000000006 millimeter\n",
      "28.800000000000008 millimeter\n",
      "30.40000000000001 millimeter\n",
      "32.00000000000001 millimeter\n",
      "33.60000000000001 millimeter\n",
      "35.20000000000001 millimeter\n",
      "36.80000000000001 millimeter\n",
      "38.40000000000001 millimeter\n",
      "40.000000000000014 millimeter\n",
      "41.600000000000016 millimeter\n"
     ]
    }
   ],
   "source": [
    "num=25\n",
    "ocean=1.6\n",
    "for i in range(num):\n",
    "    ocean=ocean+1.6\n",
    "    print(ocean,'millimeter')"
   ]
  },
  {
   "cell_type": "markdown",
   "metadata": {},
   "source": [
    "<b><u>9. ocean Levels</b></u><br>\n",
    "Assuming the ocean’s level is currently rising at about 1.6 millimeters per year, create an\n",
    "application that displays the number of millimeters that the ocean will have risen each year\n",
    "for the next 25 years."
   ]
  },
  {
   "cell_type": "code",
   "execution_count": 3,
   "metadata": {
    "scrolled": true
   },
   "outputs": [
    {
     "name": "stdout",
     "output_type": "stream",
     "text": [
      "3.2 millimeter\n",
      "4.800000000000001 millimeter\n",
      "6.4 millimeter\n",
      "8.0 millimeter\n",
      "9.6 millimeter\n",
      "11.2 millimeter\n",
      "12.799999999999999 millimeter\n",
      "14.399999999999999 millimeter\n",
      "15.999999999999998 millimeter\n",
      "17.599999999999998 millimeter\n",
      "19.2 millimeter\n",
      "20.8 millimeter\n",
      "22.400000000000002 millimeter\n",
      "24.000000000000004 millimeter\n",
      "25.600000000000005 millimeter\n",
      "27.200000000000006 millimeter\n",
      "28.800000000000008 millimeter\n",
      "30.40000000000001 millimeter\n",
      "32.00000000000001 millimeter\n",
      "33.60000000000001 millimeter\n",
      "35.20000000000001 millimeter\n",
      "36.80000000000001 millimeter\n",
      "38.40000000000001 millimeter\n",
      "40.000000000000014 millimeter\n",
      "41.600000000000016 millimeter\n"
     ]
    }
   ],
   "source": [
    "ocean=1.6\n",
    "while ocean<=41.6:\n",
    "    ocean=ocean+1.6\n",
    "    print(ocean,'millimeter')"
   ]
  },
  {
   "cell_type": "markdown",
   "metadata": {},
   "source": [
    "<b>10. Tuition Increase</b><br>\n",
    "At one college, the tuition for a full-time student is $8,000 per semester. It has been\n",
    "announced that the tuition will increase by 3 percent each year for the next 5 years. Write\n",
    "a program with a loop that displays the projected semester tuition amount for the next 5\n",
    "years."
   ]
  },
  {
   "cell_type": "code",
   "execution_count": 5,
   "metadata": {},
   "outputs": [
    {
     "name": "stdout",
     "output_type": "stream",
     "text": [
      "8240.0\n",
      "8480.0\n",
      "8720.0\n",
      "8960.0\n",
      "9200.0\n"
     ]
    }
   ],
   "source": [
    "inc=8000*0.03\n",
    "tui=5\n",
    "t=8000\n",
    "for i in range(tui):\n",
    "    t=t+inc\n",
    "    print(t)"
   ]
  },
  {
   "cell_type": "markdown",
   "metadata": {},
   "source": [
    "<b><u>Use of for loop:</b></u>\n",
    "Write a program that uses nested loops to draw this pattern:"
   ]
  },
  {
   "cell_type": "code",
   "execution_count": 24,
   "metadata": {},
   "outputs": [
    {
     "name": "stdout",
     "output_type": "stream",
     "text": [
      "##\n",
      "# #\n",
      "#  #\n",
      "#   #\n",
      "#    #\n",
      "#     #\n"
     ]
    }
   ],
   "source": [
    "stair=['##','# #','#  #','#   #','#    #','#     #',]\n",
    "for i in stair:\n",
    "    print(i)\n"
   ]
  },
  {
   "cell_type": "markdown",
   "metadata": {},
   "source": [
    "<b> Tree:</b><br>\n",
    "Draw tree using nesting list"
   ]
  },
  {
   "cell_type": "code",
   "execution_count": 69,
   "metadata": {},
   "outputs": [
    {
     "name": "stdout",
     "output_type": "stream",
     "text": [
      "       *\n",
      "      ***\n",
      "     *****\n",
      "    *******\n",
      "      | |\n",
      "      | |\n",
      "      | |\n",
      "      | |\n",
      "      | |\n",
      "      | |\n"
     ]
    }
   ],
   "source": [
    "tree=['       *','      ***','     *****','    *******','      | |','      | |','      | |','      | |','      | |','      | |']\n",
    "for i in tree:\n",
    "    print(i)"
   ]
  }
 ],
 "metadata": {
  "kernelspec": {
   "display_name": "Python 3",
   "language": "python",
   "name": "python3"
  },
  "language_info": {
   "codemirror_mode": {
    "name": "ipython",
    "version": 3
   },
   "file_extension": ".py",
   "mimetype": "text/x-python",
   "name": "python",
   "nbconvert_exporter": "python",
   "pygments_lexer": "ipython3",
   "version": "3.6.1"
  }
 },
 "nbformat": 4,
 "nbformat_minor": 2
}

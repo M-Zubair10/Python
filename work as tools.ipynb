{
 "cells": [
  {
   "cell_type": "code",
   "execution_count": 17,
   "metadata": {},
   "outputs": [
    {
     "data": {
      "text/plain": [
       "True"
      ]
     },
     "execution_count": 17,
     "metadata": {},
     "output_type": "execute_result"
    }
   ],
   "source": [
    "import tools\n",
    "tools.contains('what do you want','want')"
   ]
  },
  {
   "cell_type": "code",
   "execution_count": 18,
   "metadata": {},
   "outputs": [
    {
     "ename": "SyntaxError",
     "evalue": "invalid syntax (<ipython-input-18-ec3c93ba298b>, line 1)",
     "output_type": "error",
     "traceback": [
      "\u001b[1;36m  File \u001b[1;32m\"<ipython-input-18-ec3c93ba298b>\"\u001b[1;36m, line \u001b[1;32m1\u001b[0m\n\u001b[1;33m    tools.read_file_names(C:\\Users\\M.Zubair\\Desktop\\Assignment1)\u001b[0m\n\u001b[1;37m                           ^\u001b[0m\n\u001b[1;31mSyntaxError\u001b[0m\u001b[1;31m:\u001b[0m invalid syntax\n"
     ]
    }
   ],
   "source": [
    "tools.read_file_names(C:\\Users\\M.Zubair\\Desktop\\Assignment1)"
   ]
  },
  {
   "cell_type": "code",
   "execution_count": 4,
   "metadata": {},
   "outputs": [
    {
     "name": "stdout",
     "output_type": "stream",
     "text": [
      "Enter calories you burn in 1minute1.34\n",
      "13.4 20.1 26.8 33.5 40.2\n"
     ]
    }
   ],
   "source": [
    "calories=float(input(\"Enter calories you burn in 1minute\"))\n",
    "print(calories*10,calories*15,calories*20,calories*25,calories*30)"
   ]
  },
  {
   "cell_type": "code",
   "execution_count": 10,
   "metadata": {},
   "outputs": [
    {
     "name": "stdout",
     "output_type": "stream",
     "text": [
      "how many speed of vehicle in mph3\n",
      "how many hour has it traveled4\n",
      "12\n"
     ]
    }
   ],
   "source": [
    "speed=int(input('how many speed of vehicle in mph'))\n",
    "time=int(input('how many hour has it traveled'))\n",
    "distance=speed*time\n",
    "print(distance)"
   ]
  },
  {
   "cell_type": "code",
   "execution_count": null,
   "metadata": {
    "collapsed": true
   },
   "outputs": [],
   "source": []
  }
 ],
 "metadata": {
  "kernelspec": {
   "display_name": "Python 3",
   "language": "python",
   "name": "python3"
  },
  "language_info": {
   "codemirror_mode": {
    "name": "ipython",
    "version": 3
   },
   "file_extension": ".py",
   "mimetype": "text/x-python",
   "name": "python",
   "nbconvert_exporter": "python",
   "pygments_lexer": "ipython3",
   "version": "3.6.1"
  }
 },
 "nbformat": 4,
 "nbformat_minor": 2
}

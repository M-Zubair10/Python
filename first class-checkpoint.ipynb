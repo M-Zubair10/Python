{
 "cells": [
  {
   "cell_type": "code",
   "execution_count": null,
   "metadata": {
    "collapsed": true
   },
   "outputs": [],
   "source": [
    "age=int(input('whats your age'))\n",
    "print(age)"
   ]
  },
  {
   "cell_type": "code",
   "execution_count": 7,
   "metadata": {},
   "outputs": [
    {
     "name": "stdout",
     "output_type": "stream",
     "text": [
      "<class 'int'>\n"
     ]
    }
   ],
   "source": [
    "print(type(age))"
   ]
  },
  {
   "cell_type": "code",
   "execution_count": 8,
   "metadata": {
    "collapsed": true
   },
   "outputs": [],
   "source": [
    "def on_heater(room_no):\n",
    "    print('heater turned on')"
   ]
  },
  {
   "cell_type": "code",
   "execution_count": 11,
   "metadata": {},
   "outputs": [
    {
     "name": "stdout",
     "output_type": "stream",
     "text": [
      "heater turned on\n"
     ]
    }
   ],
   "source": [
    "room_no=1\n",
    "on_heater(room_no)"
   ]
  },
  {
   "cell_type": "code",
   "execution_count": null,
   "metadata": {
    "collapsed": true
   },
   "outputs": [],
   "source": [
    "def thermostat(limit):\n",
    "    temperature=get_env_temp()\n",
    "    "
   ]
  },
  {
   "cell_type": "code",
   "execution_count": 12,
   "metadata": {},
   "outputs": [
    {
     "data": {
      "text/plain": [
       "False"
      ]
     },
     "execution_count": 12,
     "metadata": {},
     "output_type": "execute_result"
    }
   ],
   "source": [
    "5==4"
   ]
  },
  {
   "cell_type": "code",
   "execution_count": 13,
   "metadata": {},
   "outputs": [
    {
     "data": {
      "text/plain": [
       "True"
      ]
     },
     "execution_count": 13,
     "metadata": {},
     "output_type": "execute_result"
    }
   ],
   "source": [
    "5==5"
   ]
  },
  {
   "cell_type": "code",
   "execution_count": 14,
   "metadata": {},
   "outputs": [
    {
     "data": {
      "text/plain": [
       "True"
      ]
     },
     "execution_count": 14,
     "metadata": {},
     "output_type": "execute_result"
    }
   ],
   "source": [
    "5!=4"
   ]
  },
  {
   "cell_type": "code",
   "execution_count": 15,
   "metadata": {},
   "outputs": [
    {
     "data": {
      "text/plain": [
       "True"
      ]
     },
     "execution_count": 15,
     "metadata": {},
     "output_type": "execute_result"
    }
   ],
   "source": [
    "5>=5"
   ]
  },
  {
   "cell_type": "code",
   "execution_count": 16,
   "metadata": {},
   "outputs": [
    {
     "data": {
      "text/plain": [
       "False"
      ]
     },
     "execution_count": 16,
     "metadata": {},
     "output_type": "execute_result"
    }
   ],
   "source": [
    "not(True)"
   ]
  },
  {
   "cell_type": "code",
   "execution_count": 17,
   "metadata": {},
   "outputs": [
    {
     "data": {
      "text/plain": [
       "True"
      ]
     },
     "execution_count": 17,
     "metadata": {},
     "output_type": "execute_result"
    }
   ],
   "source": [
    "True and True"
   ]
  },
  {
   "cell_type": "code",
   "execution_count": 26,
   "metadata": {},
   "outputs": [
    {
     "name": "stdout",
     "output_type": "stream",
     "text": [
      "Temperature21\n",
      "normal\n"
     ]
    }
   ],
   "source": [
    "temperature=int(input('Temperature'))\n",
    "if temperature<20: \n",
    "    print('it is very cold')\n",
    "if temperature>30:\n",
    "    print('it is very hot')\n",
    "if temperature==20 or temperature==21 or temperature==22 or temperature==23 or temperature==24 or temperature==25:\n",
    "    print('normal')"
   ]
  },
  {
   "cell_type": "code",
   "execution_count": 3,
   "metadata": {},
   "outputs": [
    {
     "name": "stdout",
     "output_type": "stream",
     "text": [
      "Temperature12\n",
      "it is very cold\n"
     ]
    }
   ],
   "source": [
    "temperature=float(input('Temperature'))\n",
    "if temperature<20: \n",
    "    print('it is very cold')\n",
    "if temperature>30:\n",
    "    print('it is very hot')\n",
    "if temperature>20 and temperature<30 :\n",
    "    print('normal')"
   ]
  },
  {
   "cell_type": "code",
   "execution_count": 4,
   "metadata": {},
   "outputs": [
    {
     "name": "stdout",
     "output_type": "stream",
     "text": [
      "Enter Number 1to72\n",
      "Tuesday\n"
     ]
    }
   ],
   "source": [
    "number=int(input('Enter Number 1to7'))\n",
    "if number==1:\n",
    "    print('Monday')\n",
    "if number==2:\n",
    "    print('Tuesday')\n",
    "if number==3:\n",
    "    print('Wednesday')\n",
    "if number==4:\n",
    "    print('Thursday')\n",
    "if number==5:\n",
    "    print('Friday')\n",
    "if number==6:\n",
    "    print('Saturday')\n",
    "if number==7:\n",
    "    print('Sunday')\n",
    "if number<=0 or number>7:\n",
    "    print('Error You are typing incorrect number.Please type number 1to7')\n",
    "    "
   ]
  },
  {
   "cell_type": "code",
   "execution_count": 5,
   "metadata": {
    "collapsed": true
   },
   "outputs": [],
   "source": [
    "def area_calculate():\n",
    "    height=int(input('Length'))\n",
    "    width=int(input('width'))\n",
    "    area=height*width\n",
    "    return area\n"
   ]
  },
  {
   "cell_type": "code",
   "execution_count": 6,
   "metadata": {
    "collapsed": true
   },
   "outputs": [],
   "source": [
    "import numpy as np\n",
    "def make_list(size):\n",
    "    return list(np.zeros(size,dtype=np.int32))"
   ]
  },
  {
   "cell_type": "code",
   "execution_count": null,
   "metadata": {
    "collapsed": true
   },
   "outputs": [],
   "source": []
  },
  {
   "cell_type": "code",
   "execution_count": null,
   "metadata": {
    "collapsed": true
   },
   "outputs": [],
   "source": []
  },
  {
   "cell_type": "markdown",
   "metadata": {},
   "source": [
    " list1=make_list(4)\n",
    "num=range(4)\n",
    "for i in num:\n",
    "    area=area_calculate()\n",
    "    list1[i]=area\n",
    "    print(area)\n",
    "print(list1)"
   ]
  },
  {
   "cell_type": "code",
   "execution_count": null,
   "metadata": {},
   "outputs": [
    {
     "name": "stdout",
     "output_type": "stream",
     "text": [
      "ite no: 1\n",
      "Length10\n",
      "width20\n",
      "200\n",
      "ite no: 2\n"
     ]
    }
   ],
   "source": [
    "numbers=range(3)\n",
    "for i in numbers:\n",
    "    print ('ite no:',i+1)\n",
    "    area=area_calculate()\n",
    "    print (area)\n",
    "    "
   ]
  },
  {
   "cell_type": "code",
   "execution_count": 15,
   "metadata": {},
   "outputs": [
    {
     "name": "stdout",
     "output_type": "stream",
     "text": [
      "Height23\n",
      "width50\n",
      "Height70\n",
      "width20\n",
      "area2 is greater than area1\n"
     ]
    }
   ],
   "source": [
    "area1=area_calculate()\n",
    "area2=area_calculate()\n",
    "for \n",
    "if area1>area2:\n",
    "    print('area1 is greater than area2')\n",
    "if area2>area1:\n",
    "    print('area2 is greater than area1')\n",
    "if area2==area1:\n",
    "    print('Both the areas are same')"
   ]
  },
  {
   "cell_type": "code",
   "execution_count": 12,
   "metadata": {},
   "outputs": [
    {
     "ename": "NameError",
     "evalue": "name 'area1' is not defined",
     "output_type": "error",
     "traceback": [
      "\u001b[1;31m---------------------------------------------------------------------------\u001b[0m",
      "\u001b[1;31mNameError\u001b[0m                                 Traceback (most recent call last)",
      "\u001b[1;32m<ipython-input-12-e855338147a6>\u001b[0m in \u001b[0;36m<module>\u001b[1;34m()\u001b[0m\n\u001b[1;32m----> 1\u001b[1;33m \u001b[0mprint\u001b[0m\u001b[1;33m(\u001b[0m\u001b[0marea1\u001b[0m\u001b[1;33m)\u001b[0m\u001b[1;33m\u001b[0m\u001b[0m\n\u001b[0m\u001b[0;32m      2\u001b[0m \u001b[0mprint\u001b[0m\u001b[1;33m(\u001b[0m\u001b[0marea2\u001b[0m\u001b[1;33m)\u001b[0m\u001b[1;33m\u001b[0m\u001b[0m\n",
      "\u001b[1;31mNameError\u001b[0m: name 'area1' is not defined"
     ]
    }
   ],
   "source": [
    "print(area1)\n",
    "print(area2)"
   ]
  },
  {
   "cell_type": "code",
   "execution_count": 3,
   "metadata": {},
   "outputs": [
    {
     "name": "stdout",
     "output_type": "stream",
     "text": [
      "What is your age12\n",
      "Child\n"
     ]
    }
   ],
   "source": [
    "age=int(input('What is your age'))\n",
    "if age==1:\n",
    "    print('Infant')\n",
    "if age>1 and age<13:\n",
    "    print('Child')\n",
    "if age>13 and age<20:\n",
    "    print('Teen')\n",
    "if age>=20:\n",
    "    print('Adult')"
   ]
  },
  {
   "cell_type": "code",
   "execution_count": 8,
   "metadata": {},
   "outputs": [
    {
     "name": "stdout",
     "output_type": "stream",
     "text": [
      "See today is majic date or not\n",
      "Date2\n",
      "Month10\n",
      "Year20\n",
      "congratulation it is majic date\n"
     ]
    }
   ],
   "source": [
    "print('See today is majic date or not')\n",
    "date=int(input('Date'))\n",
    "month=int(input('Month'))\n",
    "year=int(input('Year'))\n",
    "multiply=date*month\n",
    "if multiply==year:\n",
    "    print('congratulation it is majic date')\n",
    "if multiply!=year:\n",
    "    print('it is not a majic date')"
   ]
  },
  {
   "cell_type": "code",
   "execution_count": 9,
   "metadata": {},
   "outputs": [
    {
     "name": "stdout",
     "output_type": "stream",
     "text": [
      "Primary Colors Mixing\n",
      "Enter 1st Primary Colorblue\n",
      "Enter 2nd Primary Colorred\n",
      "purple\n"
     ]
    }
   ],
   "source": [
    "print('Primary Colors Mixing')\n",
    "primary_color=input('Enter 1st Primary Color')\n",
    "primary_color2=input('Enter 2nd Primary Color')\n",
    "if primary_color=='red' and primary_color2=='yellow':\n",
    "    print('orange')\n",
    "elif primary_color=='red' and primary_color2=='blue':\n",
    "    print('purple')\n",
    "elif primary_color=='red' and primary_color2=='red':\n",
    "    print('red')\n",
    "elif primary_color=='blue' and primary_color2=='blue':\n",
    "    print('blue')\n",
    "elif primary_color=='yelow' and primary_color2=='yellow':\n",
    "    print('yellow')\n",
    "elif primary_color=='yellow' and primary_color2=='blue':\n",
    "    print('green')\n",
    "elif primary_color=='yellow' and primary_color2=='red':\n",
    "    print('orange')\n",
    "elif primary_color=='blue' and primary_color2=='red':\n",
    "    print('purple')\n",
    "elif primary_color=='blue'and primary_color2=='yellow':\n",
    "    print('green')\n",
    "else: \n",
    "    print('Type only primary color')"
   ]
  },
  {
   "cell_type": "code",
   "execution_count": null,
   "metadata": {
    "collapsed": true
   },
   "outputs": [],
   "source": []
  },
  {
   "cell_type": "code",
   "execution_count": 1,
   "metadata": {},
   "outputs": [
    {
     "name": "stdout",
     "output_type": "stream",
     "text": [
      "Enter Number1\n",
      "Enter 2nd Number7\n",
      "Operatormul\n",
      "type only correct operartor\n"
     ]
    }
   ],
   "source": [
    "num=range(100)\n",
    "num2=range(100)\n",
    "num=float(input('Enter Number'))\n",
    "num2=float(input('Enter 2nd Number'))\n",
    "operator=input('Operator')\n",
    "add=num+num2\n",
    "sub=num-num2\n",
    "mul=num*num2\n",
    "div=num/num2\n",
    "if operator=='add':\n",
    "    print(add)\n",
    "elif operator=='subtract':\n",
    "    print(sub)\n",
    "elif operator=='multiply':\n",
    "    print(mul)\n",
    "elif operator=='divide':\n",
    "    print(div)\n",
    "else:\n",
    "    print('type only correct operartor')"
   ]
  },
  {
   "cell_type": "code",
   "execution_count": 70,
   "metadata": {},
   "outputs": [
    {
     "name": "stdout",
     "output_type": "stream",
     "text": [
      "hell1o\n",
      "2\n",
      "3\n",
      "4\n",
      "5\n",
      "6\n",
      "87\n",
      "9\n",
      "0\n",
      "hello\n"
     ]
    }
   ],
   "source": [
    "ages=['hell1o',2,3,4,5,6,87,9,0,'hello']\n",
    "for age in ages:\n",
    "    print(age)"
   ]
  },
  {
   "cell_type": "code",
   "execution_count": 72,
   "metadata": {},
   "outputs": [
    {
     "name": "stdout",
     "output_type": "stream",
     "text": [
      "Enter 1st number1\n",
      "Enter 2nd number2\n",
      "Operatoradd\n",
      "3\n",
      "Enter 2nd number2\n",
      "Operatorquit\n"
     ]
    }
   ],
   "source": [
    "def calculate(num1,num2,operator):\n",
    "    if operator=='add':\n",
    "        add=num1+num2\n",
    "        return(add)\n",
    "    elif operator=='sub':\n",
    "        sub=num1-num2\n",
    "        return(sub)\n",
    "    elif operator=='mul':\n",
    "        mul=num1*num2\n",
    "        return(mul)\n",
    "    elif operator=='div':\n",
    "        div=num1/num2\n",
    "        return(div)\n",
    "result=int(input('Enter 1st number'))\n",
    "num2=int(input('Enter 2nd number'))\n",
    "operator=input('Operator')\n",
    "while operator!='quit':\n",
    "    result=calculate(result,num2,operator)\n",
    "    print(result)\n",
    "    #     num1=int(input('Enter 1st number'))\n",
    "    num2=int(input('Enter 2nd number'))\n",
    "    operator=input('Operator')"
   ]
  },
  {
   "cell_type": "markdown",
   "metadata": {},
   "source": [
    "total=0\n",
    "for i in range(1,6):\n",
    "    total=total+i\n",
    "print(total)"
   ]
  },
  {
   "cell_type": "code",
   "execution_count": 71,
   "metadata": {},
   "outputs": [
    {
     "name": "stdout",
     "output_type": "stream",
     "text": [
      "15 5\n"
     ]
    }
   ],
   "source": [
    "n1=10\n",
    "n2=5\n",
    "n1=n1+n2\n",
    "print(n1,n2)"
   ]
  },
  {
   "cell_type": "code",
   "execution_count": 1,
   "metadata": {},
   "outputs": [
    {
     "name": "stdout",
     "output_type": "stream",
     "text": [
      "Enter your store sale of week\n",
      "Monday2\n",
      "Tuesday3\n",
      "Wednesday4\n",
      "Thursday5\n",
      "Friday6\n",
      "Saturday7\n",
      "Sunday8\n",
      "35\n"
     ]
    }
   ],
   "source": [
    "print('Enter your store sale of week')\n",
    "mon=int(input('Monday'))\n",
    "tue=int(input('Tuesday'))\n",
    "wed=int(input('Wednesday'))\n",
    "thu=int(input('Thursday'))\n",
    "fri=int(input('Friday'))\n",
    "sat=int(input('Saturday'))\n",
    "sun=int(input('Sunday'))\n",
    "add=mon+tue+wed+thu+fri+sat+sun\n",
    "print(add)"
   ]
  },
  {
   "cell_type": "markdown",
   "metadata": {},
   "source": [
    "<b>8. Sum of numbers</b><br>\n",
    "Write a program with a loop that asks the user to enter a series of positive numbers. The\n",
    "user should enter a negative number to signal the end of the series. After all the positive\n",
    "numbers have been entered, the program should display their sum."
   ]
  },
  {
   "cell_type": "code",
   "execution_count": 2,
   "metadata": {},
   "outputs": [
    {
     "name": "stdout",
     "output_type": "stream",
     "text": [
      "Enter your store sale of week\n",
      "day2\n",
      "day3\n",
      "day4\n",
      "day5\n",
      "day6\n",
      "day7\n",
      "day8\n",
      "day5\n",
      "day4\n",
      "day6\n",
      "[2, 3, 4, 5, 6, 7, 8, 5, 4, 6]\n"
     ]
    }
   ],
   "source": [
    "print('Enter your store sale of week')\n",
    "mon=list(range(10))\n",
    "for i in mon:\n",
    "    mon[i]=int(input('day'))\n",
    "print(mon)"
   ]
  },
  {
   "cell_type": "markdown",
   "metadata": {},
   "source": [
    " number=range(5)\n",
    "print (number)"
   ]
  },
  {
   "cell_type": "code",
   "execution_count": 4,
   "metadata": {},
   "outputs": [
    {
     "name": "stdout",
     "output_type": "stream",
     "text": [
      "1 4\n"
     ]
    }
   ],
   "source": [
    "n=[1,32,32,4,3,4]\n",
    "print(n[0],n[3])"
   ]
  },
  {
   "cell_type": "markdown",
   "metadata": {},
   "source": [
    "<b><u>Write a program that uses nested loops to draw this pattern:</b></u><br>"
   ]
  },
  {
   "cell_type": "code",
   "execution_count": 1,
   "metadata": {},
   "outputs": [
    {
     "name": "stdout",
     "output_type": "stream",
     "text": [
      "*******\n",
      "******\n",
      "*****\n",
      "****\n",
      "***\n",
      "**\n",
      "*\n"
     ]
    }
   ],
   "source": [
    "ast=['*******','******','*****','****','***','**','*']\n",
    "for i in ast:\n",
    "    print(i)"
   ]
  },
  {
   "cell_type": "markdown",
   "metadata": {},
   "source": [
    "<b><u>9. ocean Levels</b></u><br>\n",
    "Assuming the ocean’s level is currently rising at about 1.6 millimeters per year, create an\n",
    "application that displays the number of millimeters that the ocean will have risen each year\n",
    "for the next 25 years."
   ]
  },
  {
   "cell_type": "code",
   "execution_count": 22,
   "metadata": {
    "scrolled": true
   },
   "outputs": [
    {
     "name": "stdout",
     "output_type": "stream",
     "text": [
      "3.2 millimeter\n",
      "4.800000000000001 millimeter\n",
      "6.4 millimeter\n",
      "8.0 millimeter\n",
      "9.6 millimeter\n",
      "11.2 millimeter\n",
      "12.799999999999999 millimeter\n",
      "14.399999999999999 millimeter\n",
      "15.999999999999998 millimeter\n",
      "17.599999999999998 millimeter\n",
      "19.2 millimeter\n",
      "20.8 millimeter\n",
      "22.400000000000002 millimeter\n",
      "24.000000000000004 millimeter\n",
      "25.600000000000005 millimeter\n",
      "27.200000000000006 millimeter\n",
      "28.800000000000008 millimeter\n",
      "30.40000000000001 millimeter\n",
      "32.00000000000001 millimeter\n",
      "33.60000000000001 millimeter\n",
      "35.20000000000001 millimeter\n",
      "36.80000000000001 millimeter\n",
      "38.40000000000001 millimeter\n",
      "40.000000000000014 millimeter\n",
      "41.600000000000016 millimeter\n"
     ]
    }
   ],
   "source": [
    "num=25\n",
    "ocean=1.6\n",
    "for i in range(num):\n",
    "    ocean=ocean+1.6\n",
    "    print(ocean,'millimeter')"
   ]
  },
  {
   "cell_type": "markdown",
   "metadata": {},
   "source": [
    "<b><u>9. ocean Levels</b></u><br>\n",
    "Assuming the ocean’s level is currently rising at about 1.6 millimeters per year, create an\n",
    "application that displays the number of millimeters that the ocean will have risen each year\n",
    "for the next 25 years."
   ]
  },
  {
   "cell_type": "code",
   "execution_count": 3,
   "metadata": {
    "scrolled": true
   },
   "outputs": [
    {
     "name": "stdout",
     "output_type": "stream",
     "text": [
      "3.2 millimeter\n",
      "4.800000000000001 millimeter\n",
      "6.4 millimeter\n",
      "8.0 millimeter\n",
      "9.6 millimeter\n",
      "11.2 millimeter\n",
      "12.799999999999999 millimeter\n",
      "14.399999999999999 millimeter\n",
      "15.999999999999998 millimeter\n",
      "17.599999999999998 millimeter\n",
      "19.2 millimeter\n",
      "20.8 millimeter\n",
      "22.400000000000002 millimeter\n",
      "24.000000000000004 millimeter\n",
      "25.600000000000005 millimeter\n",
      "27.200000000000006 millimeter\n",
      "28.800000000000008 millimeter\n",
      "30.40000000000001 millimeter\n",
      "32.00000000000001 millimeter\n",
      "33.60000000000001 millimeter\n",
      "35.20000000000001 millimeter\n",
      "36.80000000000001 millimeter\n",
      "38.40000000000001 millimeter\n",
      "40.000000000000014 millimeter\n",
      "41.600000000000016 millimeter\n"
     ]
    }
   ],
   "source": [
    "ocean=1.6\n",
    "while ocean<=41.6:\n",
    "    ocean=ocean+1.6\n",
    "    print(ocean,'millimeter')"
   ]
  },
  {
   "cell_type": "markdown",
   "metadata": {},
   "source": [
    "<b>10. Tuition Increase</b><br>\n",
    "At one college, the tuition for a full-time student is $8,000 per semester. It has been\n",
    "announced that the tuition will increase by 3 percent each year for the next 5 years. Write\n",
    "a program with a loop that displays the projected semester tuition amount for the next 5\n",
    "years."
   ]
  },
  {
   "cell_type": "code",
   "execution_count": 5,
   "metadata": {},
   "outputs": [
    {
     "name": "stdout",
     "output_type": "stream",
     "text": [
      "8240.0\n",
      "8480.0\n",
      "8720.0\n",
      "8960.0\n",
      "9200.0\n"
     ]
    }
   ],
   "source": [
    "inc=8000*0.03\n",
    "tui=5\n",
    "t=8000\n",
    "for i in range(tui):\n",
    "    t=t+inc\n",
    "    print(t)"
   ]
  },
  {
   "cell_type": "markdown",
   "metadata": {},
   "source": [
    "<b><u>Use of for loop:</b></u>\n",
    "Write a program that uses nested loops to draw this pattern:"
   ]
  },
  {
   "cell_type": "code",
   "execution_count": 24,
   "metadata": {},
   "outputs": [
    {
     "name": "stdout",
     "output_type": "stream",
     "text": [
      "##\n",
      "# #\n",
      "#  #\n",
      "#   #\n",
      "#    #\n",
      "#     #\n"
     ]
    }
   ],
   "source": [
    "stair=['##','# #','#  #','#   #','#    #','#     #',]\n",
    "for i in stair:\n",
    "    print(i)\n"
   ]
  },
  {
   "cell_type": "markdown",
   "metadata": {},
   "source": [
    "<b> Tree:</b><br>\n",
    "Draw tree using nesting list"
   ]
  },
  {
   "cell_type": "code",
   "execution_count": 69,
   "metadata": {},
   "outputs": [
    {
     "name": "stdout",
     "output_type": "stream",
     "text": [
      "       *\n",
      "      ***\n",
      "     *****\n",
      "    *******\n",
      "      | |\n",
      "      | |\n",
      "      | |\n",
      "      | |\n",
      "      | |\n",
      "      | |\n"
     ]
    }
   ],
   "source": [
    "tree=['       *','      ***','     *****','    *******','      | |','      | |','      | |','      | |','      | |','      | |']\n",
    "for i in tree:\n",
    "    print(i)"
   ]
  }
 ],
 "metadata": {
  "kernelspec": {
   "display_name": "Python 3",
   "language": "python",
   "name": "python3"
  },
  "language_info": {
   "codemirror_mode": {
    "name": "ipython",
    "version": 3
   },
   "file_extension": ".py",
   "mimetype": "text/x-python",
   "name": "python",
   "nbconvert_exporter": "python",
   "pygments_lexer": "ipython3",
   "version": "3.6.1"
  }
 },
 "nbformat": 4,
 "nbformat_minor": 2
}

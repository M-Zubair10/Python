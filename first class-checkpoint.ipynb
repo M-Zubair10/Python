{
 "cells": [
  {
   "cell_type": "code",
   "execution_count": null,
   "metadata": {
    "collapsed": true
   },
   "outputs": [],
   "source": [
    "age=int(input('whats your age'))\n",
    "print(age)"
   ]
  },
  {
   "cell_type": "code",
   "execution_count": 7,
   "metadata": {},
   "outputs": [
    {
     "name": "stdout",
     "output_type": "stream",
     "text": [
      "<class 'int'>\n"
     ]
    }
   ],
   "source": [
    "print(type(age))"
   ]
  },
  {
   "cell_type": "code",
   "execution_count": 8,
   "metadata": {
    "collapsed": true
   },
   "outputs": [],
   "source": [
    "def on_heater(room_no):\n",
    "    print('heater turned on')"
   ]
  },
  {
   "cell_type": "code",
   "execution_count": 11,
   "metadata": {},
   "outputs": [
    {
     "name": "stdout",
     "output_type": "stream",
     "text": [
      "heater turned on\n"
     ]
    }
   ],
   "source": [
    "room_no=1\n",
    "on_heater(room_no)"
   ]
  },
  {
   "cell_type": "code",
   "execution_count": null,
   "metadata": {
    "collapsed": true
   },
   "outputs": [],
   "source": [
    "def thermostat(limit):\n",
    "    temperature=get_env_temp()\n",
    "    "
   ]
  },
  {
   "cell_type": "code",
   "execution_count": 12,
   "metadata": {},
   "outputs": [
    {
     "data": {
      "text/plain": [
       "False"
      ]
     },
     "execution_count": 12,
     "metadata": {},
     "output_type": "execute_result"
    }
   ],
   "source": [
    "5==4"
   ]
  },
  {
   "cell_type": "code",
   "execution_count": 13,
   "metadata": {},
   "outputs": [
    {
     "data": {
      "text/plain": [
       "True"
      ]
     },
     "execution_count": 13,
     "metadata": {},
     "output_type": "execute_result"
    }
   ],
   "source": [
    "5==5"
   ]
  },
  {
   "cell_type": "code",
   "execution_count": 14,
   "metadata": {},
   "outputs": [
    {
     "data": {
      "text/plain": [
       "True"
      ]
     },
     "execution_count": 14,
     "metadata": {},
     "output_type": "execute_result"
    }
   ],
   "source": [
    "5!=4"
   ]
  },
  {
   "cell_type": "code",
   "execution_count": 15,
   "metadata": {},
   "outputs": [
    {
     "data": {
      "text/plain": [
       "True"
      ]
     },
     "execution_count": 15,
     "metadata": {},
     "output_type": "execute_result"
    }
   ],
   "source": [
    "5>=5"
   ]
  },
  {
   "cell_type": "code",
   "execution_count": 16,
   "metadata": {},
   "outputs": [
    {
     "data": {
      "text/plain": [
       "False"
      ]
     },
     "execution_count": 16,
     "metadata": {},
     "output_type": "execute_result"
    }
   ],
   "source": [
    "not(True)"
   ]
  },
  {
   "cell_type": "code",
   "execution_count": 17,
   "metadata": {},
   "outputs": [
    {
     "data": {
      "text/plain": [
       "True"
      ]
     },
     "execution_count": 17,
     "metadata": {},
     "output_type": "execute_result"
    }
   ],
   "source": [
    "True and True"
   ]
  },
  {
   "cell_type": "code",
   "execution_count": 26,
   "metadata": {},
   "outputs": [
    {
     "name": "stdout",
     "output_type": "stream",
     "text": [
      "Temperature21\n",
      "normal\n"
     ]
    }
   ],
   "source": [
    "temperature=int(input('Temperature'))\n",
    "if temperature<20: \n",
    "    print('it is very cold')\n",
    "if temperature>30:\n",
    "    print('it is very hot')\n",
    "if temperature==20 or temperature==21 or temperature==22 or temperature==23 or temperature==24 or temperature==25:\n",
    "    print('normal')"
   ]
  },
  {
   "cell_type": "code",
   "execution_count": 34,
   "metadata": {},
   "outputs": [
    {
     "name": "stdout",
     "output_type": "stream",
     "text": [
      "Temperature55.9\n",
      "it is very hot\n"
     ]
    }
   ],
   "source": [
    "temperature=float(input('Temperature'))\n",
    "if temperature<20: \n",
    "    print('it is very cold')\n",
    "if temperature>30:\n",
    "    print('it is very hot')\n",
    "if temperature>20 and temperature<30 :\n",
    "    print('normal')"
   ]
  },
  {
   "cell_type": "code",
   "execution_count": 5,
   "metadata": {},
   "outputs": [
    {
     "name": "stdout",
     "output_type": "stream",
     "text": [
      "Enter Number 1to7-8\n",
      "Error You are typing incorrect number.Please type number 1to7\n"
     ]
    }
   ],
   "source": [
    "number=int(input('Enter Number 1to7'))\n",
    "if number==1:\n",
    "    print('Monday')\n",
    "if number==2:\n",
    "    print('Tuesday')\n",
    "if number==3:\n",
    "    print('Wednesday')\n",
    "if number==4:\n",
    "    print('Thursday')\n",
    "if number==5:\n",
    "    print('Friday')\n",
    "if number==6:\n",
    "    print('Saturday')\n",
    "if number==7:\n",
    "    print('Sunday')\n",
    "if number<=0 or number>7:\n",
    "    print('Error You are typing incorrect number.Please type number 1to7')\n",
    "    "
   ]
  },
  {
   "cell_type": "code",
   "execution_count": 2,
   "metadata": {
    "collapsed": true
   },
   "outputs": [],
   "source": [
    "def area_calculate():\n",
    "    height=int(input('Length'))\n",
    "    width=int(input('width'))\n",
    "    area=height*width\n",
    "    return area\n"
   ]
  },
  {
   "cell_type": "code",
   "execution_count": 3,
   "metadata": {
    "collapsed": true
   },
   "outputs": [],
   "source": [
    "import numpy as np\n",
    "def make_list(size):\n",
    "    return list(np.zeros(size,dtype=np.int32))"
   ]
  },
  {
   "cell_type": "code",
   "execution_count": null,
   "metadata": {},
   "outputs": [
    {
     "name": "stdout",
     "output_type": "stream",
     "text": [
      "enter number2\n",
      "2\n",
      "enter number3\n",
      "3\n",
      "enter number4\n",
      "4\n",
      "enter number41\n",
      "41\n",
      "enter number1\n",
      "1\n",
      "enter number2\n",
      "2\n",
      "enter number12\n",
      "12\n"
     ]
    }
   ],
   "source": []
  },
  {
   "cell_type": "code",
   "execution_count": null,
   "metadata": {
    "collapsed": true
   },
   "outputs": [],
   "source": []
  },
  {
   "cell_type": "markdown",
   "metadata": {},
   "source": [
    " list1=make_list(4)\n",
    "num=range(4)\n",
    "for i in num:\n",
    "    area=area_calculate()\n",
    "    list1[i]=area\n",
    "    print(area)\n",
    "print(list1)"
   ]
  },
  {
   "cell_type": "code",
   "execution_count": 1,
   "metadata": {},
   "outputs": [
    {
     "name": "stdout",
     "output_type": "stream",
     "text": [
      "ite no: 1\n"
     ]
    },
    {
     "ename": "NameError",
     "evalue": "name 'area_calculate' is not defined",
     "output_type": "error",
     "traceback": [
      "\u001b[1;31m---------------------------------------------------------------------------\u001b[0m",
      "\u001b[1;31mNameError\u001b[0m                                 Traceback (most recent call last)",
      "\u001b[1;32m<ipython-input-1-0818de135cba>\u001b[0m in \u001b[0;36m<module>\u001b[1;34m()\u001b[0m\n\u001b[0;32m      2\u001b[0m \u001b[1;32mfor\u001b[0m \u001b[0mi\u001b[0m \u001b[1;32min\u001b[0m \u001b[0mnumbers\u001b[0m\u001b[1;33m:\u001b[0m\u001b[1;33m\u001b[0m\u001b[0m\n\u001b[0;32m      3\u001b[0m     \u001b[0mprint\u001b[0m \u001b[1;33m(\u001b[0m\u001b[1;34m'ite no:'\u001b[0m\u001b[1;33m,\u001b[0m\u001b[0mi\u001b[0m\u001b[1;33m+\u001b[0m\u001b[1;36m1\u001b[0m\u001b[1;33m)\u001b[0m\u001b[1;33m\u001b[0m\u001b[0m\n\u001b[1;32m----> 4\u001b[1;33m     \u001b[0marea\u001b[0m\u001b[1;33m=\u001b[0m\u001b[0marea_calculate\u001b[0m\u001b[1;33m(\u001b[0m\u001b[1;33m)\u001b[0m\u001b[1;33m\u001b[0m\u001b[0m\n\u001b[0m\u001b[0;32m      5\u001b[0m     \u001b[0mprint\u001b[0m \u001b[1;33m(\u001b[0m\u001b[0marea\u001b[0m\u001b[1;33m)\u001b[0m\u001b[1;33m\u001b[0m\u001b[0m\n\u001b[0;32m      6\u001b[0m \u001b[1;33m\u001b[0m\u001b[0m\n",
      "\u001b[1;31mNameError\u001b[0m: name 'area_calculate' is not defined"
     ]
    }
   ],
   "source": [
    "numbers=range(3)\n",
    "for i in numbers:\n",
    "    print ('ite no:',i+1)\n",
    "    area=area_calculate()\n",
    "    print (area)\n",
    "    "
   ]
  },
  {
   "cell_type": "code",
   "execution_count": 15,
   "metadata": {},
   "outputs": [
    {
     "name": "stdout",
     "output_type": "stream",
     "text": [
      "Height23\n",
      "width50\n",
      "Height70\n",
      "width20\n",
      "area2 is greater than area1\n"
     ]
    }
   ],
   "source": [
    "area1=area_calculate()\n",
    "area2=area_calculate()\n",
    "for \n",
    "if area1>area2:\n",
    "    print('area1 is greater than area2')\n",
    "if area2>area1:\n",
    "    print('area2 is greater than area1')\n",
    "if area2==area1:\n",
    "    print('Both the areas are same')"
   ]
  },
  {
   "cell_type": "code",
   "execution_count": 12,
   "metadata": {},
   "outputs": [
    {
     "ename": "NameError",
     "evalue": "name 'area1' is not defined",
     "output_type": "error",
     "traceback": [
      "\u001b[1;31m---------------------------------------------------------------------------\u001b[0m",
      "\u001b[1;31mNameError\u001b[0m                                 Traceback (most recent call last)",
      "\u001b[1;32m<ipython-input-12-e855338147a6>\u001b[0m in \u001b[0;36m<module>\u001b[1;34m()\u001b[0m\n\u001b[1;32m----> 1\u001b[1;33m \u001b[0mprint\u001b[0m\u001b[1;33m(\u001b[0m\u001b[0marea1\u001b[0m\u001b[1;33m)\u001b[0m\u001b[1;33m\u001b[0m\u001b[0m\n\u001b[0m\u001b[0;32m      2\u001b[0m \u001b[0mprint\u001b[0m\u001b[1;33m(\u001b[0m\u001b[0marea2\u001b[0m\u001b[1;33m)\u001b[0m\u001b[1;33m\u001b[0m\u001b[0m\n",
      "\u001b[1;31mNameError\u001b[0m: name 'area1' is not defined"
     ]
    }
   ],
   "source": [
    "print(area1)\n",
    "print(area2)"
   ]
  },
  {
   "cell_type": "code",
   "execution_count": 11,
   "metadata": {},
   "outputs": [
    {
     "name": "stdout",
     "output_type": "stream",
     "text": [
      "What is your age20\n",
      "Adult\n"
     ]
    }
   ],
   "source": [
    "age=int(input('What is your age'))\n",
    "if age==1:\n",
    "    print('Infant')\n",
    "if age>1 and age<13:\n",
    "    print('Child')\n",
    "if age>13 and age<20:\n",
    "    print('Teen')\n",
    "if age>=20:\n",
    "    print('Adult')"
   ]
  },
  {
   "cell_type": "code",
   "execution_count": 6,
   "metadata": {},
   "outputs": [
    {
     "name": "stdout",
     "output_type": "stream",
     "text": [
      "See today is majic date or not\n",
      "Date2\n",
      "Month1\n",
      "Year7\n",
      "it is not a majic date\n"
     ]
    }
   ],
   "source": [
    "print('See today is majic date or not')\n",
    "date=int(input('Date'))\n",
    "month=int(input('Month'))\n",
    "year=int(input('Year'))\n",
    "multiply=date*month\n",
    "if multiply==year:\n",
    "    print('congratulation it is majic date')\n",
    "if multiply!=year:\n",
    "    print('it is not a majic date')"
   ]
  },
  {
   "cell_type": "code",
   "execution_count": 10,
   "metadata": {},
   "outputs": [
    {
     "name": "stdout",
     "output_type": "stream",
     "text": [
      "Primary Colors Mixing\n",
      "Enter 1st Primary Colorzaid\n",
      "Enter 2nd Primary Colorammara\n",
      "Type only primary color\n"
     ]
    }
   ],
   "source": [
    "print('Primary Colors Mixing')\n",
    "primary_color=input('Enter 1st Primary Color')\n",
    "primary_color2=input('Enter 2nd Primary Color')\n",
    "if primary_color=='red' and primary_color2=='yellow':\n",
    "    print('orange')\n",
    "elif primary_color=='red' and primary_color2=='blue':\n",
    "    print('purple')\n",
    "elif primary_color=='red' and primary_color2=='red':\n",
    "    print('red')\n",
    "elif primary_color=='blue' and primary_color2=='blue':\n",
    "    print('blue')\n",
    "elif primary_color=='yelow' and primary_color2=='yellow':\n",
    "    print('yellow')\n",
    "elif primary_color=='yellow' and primary_color2=='blue':\n",
    "    print('green')\n",
    "elif primary_color=='yellow' and primary_color2=='red':\n",
    "    print('orange')\n",
    "elif primary_color=='blue' and primary_color2=='red':\n",
    "    print('purple')\n",
    "elif primary_color=='blue'and primary_color2=='yellow':\n",
    "    print('green')\n",
    "else: \n",
    "    print('Type only primary color')"
   ]
  },
  {
   "cell_type": "code",
   "execution_count": null,
   "metadata": {
    "collapsed": true
   },
   "outputs": [],
   "source": []
  },
  {
   "cell_type": "code",
   "execution_count": 1,
   "metadata": {},
   "outputs": [
    {
     "name": "stdout",
     "output_type": "stream",
     "text": [
      "Enter Number1\n",
      "Enter 2nd Number7\n",
      "Operatormul\n",
      "type only correct operartor\n"
     ]
    }
   ],
   "source": [
    "num=range(100)\n",
    "num2=range(100)\n",
    "num=float(input('Enter Number'))\n",
    "num2=float(input('Enter 2nd Number'))\n",
    "operator=input('Operator')\n",
    "add=num+num2\n",
    "sub=num-num2\n",
    "mul=num*num2\n",
    "div=num/num2\n",
    "if operator=='add':\n",
    "    print(add)\n",
    "elif operator=='subtract':\n",
    "    print(sub)\n",
    "elif operator=='multiply':\n",
    "    print(mul)\n",
    "elif operator=='divide':\n",
    "    print(div)\n",
    "else:\n",
    "    print('type only correct operartor')"
   ]
  },
  {
   "cell_type": "code",
   "execution_count": null,
   "metadata": {
    "collapsed": true
   },
   "outputs": [],
   "source": [
    "ages=['hell1o',2,3,4,5,6,87,9,0,'hello']\n",
    "for age in ages:\n",
    "    print(age)"
   ]
  },
  {
   "cell_type": "code",
   "execution_count": 1,
   "metadata": {},
   "outputs": [
    {
     "name": "stdout",
     "output_type": "stream",
     "text": [
      "Enter 1st number3\n",
      "Enter 2nd number4\n",
      "Operator5\n",
      "None\n",
      "Enter 2nd number3\n",
      "Operator23\n",
      "None\n",
      "Enter 2nd number2\n",
      "Operator4\n",
      "None\n",
      "Enter 2nd number4\n",
      "Operator2\n",
      "None\n",
      "Enter 2nd number2\n",
      "Operator4\n",
      "None\n",
      "Enter 2nd number2\n",
      "Operator42\n",
      "None\n",
      "Enter 2nd number4\n",
      "Operator23\n",
      "None\n",
      "Enter 2nd number4\n",
      "Operator23\n",
      "None\n",
      "Enter 2nd number423\n",
      "Operator423\n",
      "None\n",
      "Enter 2nd number4\n",
      "Operator\n",
      "None\n",
      "Enter 2nd number\n"
     ]
    },
    {
     "ename": "ValueError",
     "evalue": "invalid literal for int() with base 10: ''",
     "output_type": "error",
     "traceback": [
      "\u001b[1;31m---------------------------------------------------------------------------\u001b[0m",
      "\u001b[1;31mValueError\u001b[0m                                Traceback (most recent call last)",
      "\u001b[1;32m<ipython-input-1-1fc226905996>\u001b[0m in \u001b[0;36m<module>\u001b[1;34m()\u001b[0m\n\u001b[0;32m     19\u001b[0m     \u001b[0mprint\u001b[0m\u001b[1;33m(\u001b[0m\u001b[0mresult\u001b[0m\u001b[1;33m)\u001b[0m\u001b[1;33m\u001b[0m\u001b[0m\n\u001b[0;32m     20\u001b[0m     \u001b[1;31m#     num1=int(input('Enter 1st number'))\u001b[0m\u001b[1;33m\u001b[0m\u001b[1;33m\u001b[0m\u001b[0m\n\u001b[1;32m---> 21\u001b[1;33m     \u001b[0mnum2\u001b[0m\u001b[1;33m=\u001b[0m\u001b[0mint\u001b[0m\u001b[1;33m(\u001b[0m\u001b[0minput\u001b[0m\u001b[1;33m(\u001b[0m\u001b[1;34m'Enter 2nd number'\u001b[0m\u001b[1;33m)\u001b[0m\u001b[1;33m)\u001b[0m\u001b[1;33m\u001b[0m\u001b[0m\n\u001b[0m\u001b[0;32m     22\u001b[0m     \u001b[0moperator\u001b[0m\u001b[1;33m=\u001b[0m\u001b[0minput\u001b[0m\u001b[1;33m(\u001b[0m\u001b[1;34m'Operator'\u001b[0m\u001b[1;33m)\u001b[0m\u001b[1;33m\u001b[0m\u001b[0m\n",
      "\u001b[1;31mValueError\u001b[0m: invalid literal for int() with base 10: ''"
     ]
    }
   ],
   "source": [
    "def calculate(num1,num2,operator):\n",
    "    if operator=='add':\n",
    "        add=num1+num2\n",
    "        return(add)\n",
    "    elif operator=='sub':\n",
    "        sub=num1-num2\n",
    "        return(sub)\n",
    "    elif operator=='mul':\n",
    "        mul=num1*num2\n",
    "        return(mul)\n",
    "    elif operator=='div':\n",
    "        div=num1/num2\n",
    "        return(div)\n",
    "result=int(input('Enter 1st number'))\n",
    "num2=int(input('Enter 2nd number'))\n",
    "operator=input('Operator')\n",
    "while operator!='quit':\n",
    "    result=calculate(result,num2,operator)\n",
    "    print(result)\n",
    "    #     num1=int(input('Enter 1st number'))\n",
    "    num2=int(input('Enter 2nd number'))\n",
    "    operator=input('Operator')"
   ]
  },
  {
   "cell_type": "markdown",
   "metadata": {},
   "source": [
    "total=0\n",
    "for i in range(1,6):\n",
    "    total=total+i\n",
    "print(total)"
   ]
  },
  {
   "cell_type": "code",
   "execution_count": 11,
   "metadata": {},
   "outputs": [
    {
     "name": "stdout",
     "output_type": "stream",
     "text": [
      "15 5\n"
     ]
    }
   ],
   "source": [
    "n1=10\n",
    "n2=5\n",
    "n1=n1+n2\n",
    "print(n1,n2)"
   ]
  },
  {
   "cell_type": "code",
   "execution_count": 3,
   "metadata": {},
   "outputs": [
    {
     "name": "stdout",
     "output_type": "stream",
     "text": [
      "Enter your store sale of week\n",
      "Monday2\n",
      "Tuesday3\n",
      "Wednesday4\n",
      "Thursday5\n",
      "Friday6\n",
      "Saturday6\n",
      "Sunday7\n",
      "33\n"
     ]
    }
   ],
   "source": [
    "print('Enter your store sale of week')\n",
    "mon=int(input('Monday'))\n",
    "tue=int(input('Tuesday'))\n",
    "wed=int(input('Wednesday'))\n",
    "thu=int(input('Thursday'))\n",
    "fri=int(input('Friday'))\n",
    "sat=int(input('Saturday'))\n",
    "sun=int(input('Sunday'))\n",
    "add=mon+tue+wed+thu+fri+sat+sun\n",
    "print(add)"
   ]
  },
  {
   "cell_type": "code",
   "execution_count": 2,
   "metadata": {},
   "outputs": [
    {
     "name": "stdout",
     "output_type": "stream",
     "text": [
      "Enter your store sale of week\n",
      "day2\n",
      "day2\n",
      "day2\n",
      "day2\n",
      "day2\n",
      "day2\n",
      "day2\n",
      "day2\n",
      "day2\n",
      "day2\n",
      "[2, 2, 2, 2, 2, 2, 2, 2, 2, 2]\n"
     ]
    }
   ],
   "source": [
    "print('Enter your store sale of week')\n",
    "mon=list(range(10))\n",
    "for i in mon:\n",
    "    mon[i]=int(input('day'))\n",
    "print(mon)"
   ]
  },
  {
   "cell_type": "markdown",
   "metadata": {},
   "source": [
    " number=range(5)\n",
    "print (number)"
   ]
  },
  {
   "cell_type": "code",
   "execution_count": 4,
   "metadata": {},
   "outputs": [
    {
     "name": "stdout",
     "output_type": "stream",
     "text": [
      "1 32\n"
     ]
    }
   ],
   "source": [
    "n=[1,32,32,4,3,4]\n",
    "print(n[0],n[1])"
   ]
  },
  {
   "cell_type": "code",
   "execution_count": null,
   "metadata": {
    "collapsed": true
   },
   "outputs": [],
   "source": []
  }
 ],
 "metadata": {
  "kernelspec": {
   "display_name": "Python 3",
   "language": "python",
   "name": "python3"
  },
  "language_info": {
   "codemirror_mode": {
    "name": "ipython",
    "version": 3
   },
   "file_extension": ".py",
   "mimetype": "text/x-python",
   "name": "python",
   "nbconvert_exporter": "python",
   "pygments_lexer": "ipython3",
   "version": "3.6.1"
  }
 },
 "nbformat": 4,
 "nbformat_minor": 2
}

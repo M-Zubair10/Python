{
 "cells": [
  {
   "cell_type": "code",
   "execution_count": 1,
   "metadata": {
    "collapsed": true
   },
   "outputs": [],
   "source": [
    "import numpy as np\n",
    "def make_list(size):\n",
    "    return list(np.zeros(size,dtype=np.int32))"
   ]
  },
  {
   "cell_type": "code",
   "execution_count": 4,
   "metadata": {},
   "outputs": [
    {
     "name": "stdout",
     "output_type": "stream",
     "text": [
      "size of list4\n",
      "put the value of k100\n",
      "Enter number which you stored in list20\n",
      "Enter number which you stored in list30\n",
      "Enter number which you stored in list50\n",
      "Enter number which you stored in list70\n",
      "[20, 30, 50, 70]\n",
      "100\n",
      "100\n",
      "100\n"
     ]
    }
   ],
   "source": [
    "#making list size\n",
    "l=int(input('size of list'))\n",
    "n=make_list(l)\n",
    "k=int(input('put the value of k'))\n",
    "#what you stored in list\n",
    "for i in range(l):\n",
    "    n[i]=int(input('Enter number which you stored in list'))\n",
    "print(n)\n",
    "for m in n:\n",
    "    if m+n[0]==k or m+n[1]==k or m+n[2]==k or m+n[3]==k:\n",
    "            print(k)"
   ]
  },
  {
   "cell_type": "code",
   "execution_count": null,
   "metadata": {
    "collapsed": true
   },
   "outputs": [],
   "source": []
  },
  {
   "cell_type": "code",
   "execution_count": null,
   "metadata": {
    "collapsed": true
   },
   "outputs": [],
   "source": []
  }
 ],
 "metadata": {
  "kernelspec": {
   "display_name": "Python 2",
   "language": "python",
   "name": "python2"
  },
  "language_info": {
   "codemirror_mode": {
    "name": "ipython",
    "version": 2
   },
   "file_extension": ".py",
   "mimetype": "text/x-python",
   "name": "python",
   "nbconvert_exporter": "python",
   "pygments_lexer": "ipython2",
   "version": "2.7.15"
  },
  "pycharm": {
   "stem_cell": {
    "cell_type": "raw",
    "metadata": {
     "collapsed": false
    },
    "source": []
   }
  }
 },
 "nbformat": 4,
 "nbformat_minor": 2
}

{
 "cells": [
  {
   "cell_type": "code",
   "execution_count": 1,
   "metadata": {
    "collapsed": true
   },
   "outputs": [],
   "source": [
    "import numpy as np\n",
    "def make_list(size):\n",
    "    return list(np.zeros(size,dtype=np.int32))"
   ]
  },
  {
   "cell_type": "code",
   "execution_count": 42,
   "metadata": {},
   "outputs": [
    {
     "name": "stdout",
     "output_type": "stream",
     "text": [
      "size of list (3 to 6)3\n",
      "Enter number which you stored in list22\n",
      "Enter number which you stored in list333\n",
      "Enter number which you stored in list44\n",
      "[22, 333, 44]\n",
      "14652 968 7326\n"
     ]
    }
   ],
   "source": [
    "# making list\n",
    "l=int(input('size of list (3 to 6)'))\n",
    "n=make_list(l)\n",
    "#what you stored in list\n",
    "for i in range(l):\n",
    "    n[i]=int(input('Enter number which you stored in list'))\n",
    "print(n)\n",
    "if l==3:\n",
    "    a=n[1]*n[2]\n",
    "    b=n[0]*n[2]\n",
    "    c=n[0]*n[1]\n",
    "    print(a,b,c)\n",
    "if l==4:\n",
    "    a=n[1]*n[2]*n[3]\n",
    "    b=n[0]*n[2]*n[3]\n",
    "    c=n[0]*n[1]*n[3]\n",
    "    d=n[0]*n[1]*n[2]\n",
    "    print(a,b,c,d)++\n",
    "if l==5:\n",
    "    a=n[1]*n[2]*n[3]*n[4]\n",
    "    b=n[0]*n[2]*n[3]*n[4]\n",
    "    c=n[0]*n[1]*n[3]*n[4]\n",
    "    d=n[0]*n[1]*n[2]*n[4]\n",
    "    e=n[0]*n[1]*n[2]*n[3]\n",
    "    print(a,b,c,d,e)\n",
    "if l==6:\n",
    "    a=n[1]*n[2]*n[3]*n[4]*n[5]\n",
    "    b=n[0]*n[2]*n[3]*n[4]*n[5]\n",
    "    c=n[0]*n[1]*n[3]*n[4]*n[5]\n",
    "    d=n[0]*n[1]*n[2]*n[4]*n[5]\n",
    "    e=n[0]*n[1]*n[2]*n[3]*n[5]\n",
    "    f=n[0]*n[1]*n[2]*n[3]*n[4]\n",
    "    print(a,b,c,d,e,f)"
   ]
  },
  {
   "cell_type": "code",
   "execution_count": null,
   "metadata": {
    "collapsed": true
   },
   "outputs": [],
   "source": []
  }
 ],
 "metadata": {
  "kernelspec": {
   "display_name": "Python 3",
   "language": "python",
   "name": "python3"
  },
  "language_info": {
   "codemirror_mode": {
    "name": "ipython",
    "version": 3
   },
   "file_extension": ".py",
   "mimetype": "text/x-python",
   "name": "python",
   "nbconvert_exporter": "python",
   "pygments_lexer": "ipython3",
   "version": "3.6.1"
  }
 },
 "nbformat": 4,
 "nbformat_minor": 2
}
